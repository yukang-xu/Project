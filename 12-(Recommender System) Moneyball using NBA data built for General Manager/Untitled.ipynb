{
 "cells": [
  {
   "cell_type": "code",
   "execution_count": 3,
   "metadata": {
    "scrolled": true
   },
   "outputs": [],
   "source": [
    "import pandas as pd\n",
    "data = pd.read_excel('C:/Users/xuyuk/OneDrive - Georgia State University/Data import/2017-2019.xlsx')"
   ]
  },
  {
   "cell_type": "code",
   "execution_count": 28,
   "metadata": {},
   "outputs": [],
   "source": [
    "top5=data[data['rank']<=5]\n",
    "other=data[data['rank']>5]\n",
    "a=top5[top5['year']=='2017-2018']\n",
    "a=(a['missing games'].mean())/15\n",
    "b=top5[top5['year']=='2018-2019']\n",
    "b=(b['missing games'].mean())/15\n",
    "c=top5[top5['year']=='2019-2020']\n",
    "c=(c['missing games'].mean())/15\n",
    "d=other[other['year']=='2017-2018']\n",
    "d=(d['missing games'].mean())/15\n",
    "e=other[other['year']=='2018-2019']\n",
    "e=(e['missing games'].mean())/15\n",
    "f=other[other['year']=='2019-2020']\n",
    "f=(f['missing games'].mean())/15"
   ]
  },
  {
   "cell_type": "code",
   "execution_count": 30,
   "metadata": {},
   "outputs": [
    {
     "data": {
      "image/png": "[encoded data removed]",
      "text/plain": [
       "<Figure size 432x288 with 1 Axes>"
      ]
     },
     "metadata": {
      "needs_background": "light"
     },
     "output_type": "display_data"
    }
   ],
   "source": [
    "import numpy as np\n",
    "import matplotlib.pyplot as plt\n",
    "\n",
    "# width of the bars\n",
    "barWidth = 0.3\n",
    " \n",
    "# Choose the height of the blue bars\n",
    "\n",
    "bars1 = [a, b, c]\n",
    " \n",
    "# Choose the height of the cyan bars\n",
    "bars2 = [d, e, f]\n",
    " \n",
    "# Choose the height of the error bars (bars1)\n",
    "yer1 = [0.5, 0.4, 0.5]\n",
    " \n",
    "# Choose the height of the error bars (bars2)\n",
    "yer2 = [1, 0.7, 1]\n",
    " \n",
    "# The x position of bars\n",
    "r1 = np.arange(len(bars1))\n",
    "r2 = [x + barWidth for x in r1]\n",
    " \n",
    "# Create blue bars\n",
    "plt.bar(r1, bars1, width = barWidth, color = 'orange', edgecolor = 'black', yerr=yer1, capsize=7, label='Top5 team')\n",
    " \n",
    "# Create cyan bars\n",
    "plt.bar(r2, bars2, width = barWidth, color = 'pink', edgecolor = 'black', yerr=yer2, capsize=7, label='Other teams')\n",
    " \n",
    "# general layout\n",
    "plt.xticks([r + barWidth for r in range(len(bars1))], ['2017-2018', '2018-2019', '2019-2020'])\n",
    "plt.title('AVG games missed due to injury: Top5 VS Other')\n",
    "plt.ylabel('#AVG games missed due to injury')\n",
    "plt.legend()\n",
    " \n",
    "# Show graphic\n",
    "plt.show()\n"
   ]
  },
  {
   "cell_type": "code",
   "execution_count": 33,
   "metadata": {},
   "outputs": [],
   "source": [
    "top1=data[data['rank']==1]\n",
    "top2=data[data['rank']==2]\n",
    "top3=data[data['rank']==3]\n",
    "last3=data[data['rank']==13]\n",
    "last2=data[data['rank']==14]\n",
    "last1=data[data['rank']==15]\n",
    "a=top1['trade'].mean()\n",
    "b=top2['trade'].mean()\n",
    "c=top3['trade'].mean()\n",
    "d=last3['trade'].mean()\n",
    "e=last2['trade'].mean()\n",
    "f=last1['trade'].mean()"
   ]
  },
  {
   "cell_type": "code",
   "execution_count": 32,
   "metadata": {},
   "outputs": [
    {
     "data": {
      "text/html": [
       "<div>\n",
       "<style scoped>\n",
       "    .dataframe tbody tr th:only-of-type {\n",
       "        vertical-align: middle;\n",
       "    }\n",
       "\n",
       "    .dataframe tbody tr th {\n",
       "        vertical-align: top;\n",
       "    }\n",
       "\n",
       "    .dataframe thead th {\n",
       "        text-align: right;\n",
       "    }\n",
       "</style>\n",
       "<table border=\"1\" class=\"dataframe\">\n",
       "  <thead>\n",
       "    <tr style=\"text-align: right;\">\n",
       "      <th></th>\n",
       "      <th>year</th>\n",
       "      <th>team</th>\n",
       "      <th>injury times</th>\n",
       "      <th>missing games</th>\n",
       "      <th>rank</th>\n",
       "      <th>trade</th>\n",
       "    </tr>\n",
       "  </thead>\n",
       "  <tbody>\n",
       "    <tr>\n",
       "      <th>10</th>\n",
       "      <td>2017-2018</td>\n",
       "      <td>Houston Rockets</td>\n",
       "      <td>18</td>\n",
       "      <td>242</td>\n",
       "      <td>1</td>\n",
       "      <td>23</td>\n",
       "    </tr>\n",
       "    <tr>\n",
       "      <th>16</th>\n",
       "      <td>2017-2018</td>\n",
       "      <td>Toronto Raptors</td>\n",
       "      <td>13</td>\n",
       "      <td>178</td>\n",
       "      <td>1</td>\n",
       "      <td>7</td>\n",
       "    </tr>\n",
       "    <tr>\n",
       "      <th>40</th>\n",
       "      <td>2018-2019</td>\n",
       "      <td>Milwaukee Bucks</td>\n",
       "      <td>15</td>\n",
       "      <td>196</td>\n",
       "      <td>1</td>\n",
       "      <td>18</td>\n",
       "    </tr>\n",
       "    <tr>\n",
       "      <th>49</th>\n",
       "      <td>2018-2019</td>\n",
       "      <td>Golden State Warriors</td>\n",
       "      <td>8</td>\n",
       "      <td>64</td>\n",
       "      <td>1</td>\n",
       "      <td>3</td>\n",
       "    </tr>\n",
       "    <tr>\n",
       "      <th>83</th>\n",
       "      <td>2019-2020</td>\n",
       "      <td>Milwaukee Bucks</td>\n",
       "      <td>16</td>\n",
       "      <td>86</td>\n",
       "      <td>1</td>\n",
       "      <td>8</td>\n",
       "    </tr>\n",
       "    <tr>\n",
       "      <th>87</th>\n",
       "      <td>2019-2020</td>\n",
       "      <td>Los Angeles Lakers</td>\n",
       "      <td>12</td>\n",
       "      <td>134</td>\n",
       "      <td>1</td>\n",
       "      <td>12</td>\n",
       "    </tr>\n",
       "  </tbody>\n",
       "</table>\n",
       "</div>"
      ],
      "text/plain": [
       "         year                   team  injury times  missing games  rank  trade\n",
       "10  2017-2018        Houston Rockets            18            242     1     23\n",
       "16  2017-2018        Toronto Raptors            13            178     1      7\n",
       "40  2018-2019        Milwaukee Bucks            15            196     1     18\n",
       "49  2018-2019  Golden State Warriors             8             64     1      3\n",
       "83  2019-2020        Milwaukee Bucks            16             86     1      8\n",
       "87  2019-2020     Los Angeles Lakers            12            134     1     12"
      ]
     },
     "execution_count": 32,
     "metadata": {},
     "output_type": "execute_result"
    }
   ],
   "source": [
    "top1"
   ]
  },
  {
   "cell_type": "code",
   "execution_count": 48,
   "metadata": {},
   "outputs": [
    {
     "data": {
      "image/png": "[encoded data removed]",
      "text/plain": [
       "<Figure size 432x288 with 1 Axes>"
      ]
     },
     "metadata": {
      "needs_background": "light"
     },
     "output_type": "display_data"
    }
   ],
   "source": [
    "import numpy as np\n",
    "import matplotlib.pyplot as plt\n",
    " \n",
    "# Make fake dataset\n",
    "height = [b,a,e,d]\n",
    "bars = ('Top1','Top2' ,'Last2','Last1')\n",
    "y_pos = np.arange(len(bars))\n",
    " \n",
    "# Create horizontal bars\n",
    "plt.barh(y_pos, height,height=0.3, align='center')\n",
    "plt.title('Trade amount comparison since 2017')\n",
    "plt.xlabel('#Trades')\n",
    "\n",
    " \n",
    "# Create names on the y-axis\n",
    "plt.yticks(y_pos, bars)\n",
    "\n",
    " \n",
    "# Show graphic\n",
    "plt.show()\n"
   ]
  },
  {
   "cell_type": "code",
   "execution_count": null,
   "metadata": {},
   "outputs": [],
   "source": []
  }
 ],
 "metadata": {
  "kernelspec": {
   "display_name": "Python 3",
   "language": "python",
   "name": "python3"
  },
  "language_info": {
   "codemirror_mode": {
    "name": "ipython",
    "version": 3
   },
   "file_extension": ".py",
   "mimetype": "text/x-python",
   "name": "python",
   "nbconvert_exporter": "python",
   "pygments_lexer": "ipython3",
   "version": "3.7.1"
  }
 },
 "nbformat": 4,
 "nbformat_minor": 2
}
